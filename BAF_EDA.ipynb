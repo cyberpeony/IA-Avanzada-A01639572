{
 "cells": [
  {
   "cell_type": "markdown",
   "id": "6561b226",
   "metadata": {},
   "source": [
    "# EDA – Bank Account Fraud (BAF)\n",
    "\n",
    "EDA sobre el dataset BAF Dataset Suite."
   ]
  },
  {
   "cell_type": "code",
   "execution_count": null,
   "id": "3f104601",
   "metadata": {},
   "outputs": [],
   "source": [
    "import pandas as pd\n",
    "import os"
   ]
  },
  {
   "cell_type": "markdown",
   "id": "2cb0df8a",
   "metadata": {},
   "source": [
    "## Carga de datos local\n",
    "\n",
    "Los 6 archivos CSV (base + variantes) desde la carpeta data/, por privacidad estos datos están en el gitignore."
   ]
  },
  {
   "cell_type": "code",
   "execution_count": null,
   "id": "f3acb24f",
   "metadata": {},
   "outputs": [],
   "source": [
    "DATA_DIR = \"data\"\n",
    "files = [\n",
    "    \"Base.csv\",\n",
    "    \"Variant I.csv\",\n",
    "    \"Variant II.csv\",\n",
    "    \"Variant III.csv\",\n",
    "    \"Variant IV.csv\",\n",
    "    \"Variant V.csv\"\n",
    "]\n",
    "datasets = {}\n",
    "for file in files:\n",
    "    path = os.path.join(DATA_DIR, file)\n",
    "    df_temp = pd.read_csv(path)\n",
    "    datasets[file] = df_temp\n",
    "    print(f\"{file}: {df_temp.shape}\")"
   ]
  },
  {
   "cell_type": "markdown",
   "id": "5341a28f",
   "metadata": {},
   "source": [
    "## 1. Descripción general del dataset\n",
    "\n",
    "- shape (filas/columnas)\n",
    "- nombres y tipos de columnas\n",
    "- nulos/missing y duplicados\n",
    "- “missing” (-1 o negativos) en cols\n"
   ]
  },
  {
   "cell_type": "code",
   "execution_count": null,
   "id": "06a7f135",
   "metadata": {},
   "outputs": [],
   "source": [
    "for name, df in datasets.items():\n",
    "    print(f\"{name}: {df.shape[0]:,} filas, {df.shape[1]} columnas\")\n"
   ]
  },
  {
   "cell_type": "code",
   "execution_count": null,
   "id": "a0b0885b",
   "metadata": {},
   "outputs": [],
   "source": [
    "# columnas y tipos de Base.csv\n",
    "datasets[\"Base.csv\"].dtypes"
   ]
  },
  {
   "cell_type": "code",
   "execution_count": null,
   "id": "da31624f",
   "metadata": {},
   "outputs": [],
   "source": [
    "# columnas y tipos de Variant III.csv\n",
    "datasets[\"Variant III.csv\"].dtypes"
   ]
  },
  {
   "cell_type": "code",
   "execution_count": null,
   "id": "38744387",
   "metadata": {},
   "outputs": [],
   "source": [
    "for name, df in datasets.items():\n",
    "    print(f\"-{name}\")\n",
    "    na_counts = df.isna().sum()\n",
    "    na_counts = na_counts[na_counts > 0]\n",
    "    if not na_counts.empty:\n",
    "        print(\"Columnas con NaN y cantidad:\")\n",
    "        print(na_counts.sort_values(ascending=False))\n",
    "    else:\n",
    "        print(\"No hay NaN\")"
   ]
  },
  {
   "cell_type": "markdown",
   "id": "5ebd517c",
   "metadata": {},
   "source": [
    "# 2. Resumen Estadístico:\n"
   ]
  },
  {
   "cell_type": "code",
   "execution_count": null,
   "id": "e26002e2",
   "metadata": {},
   "outputs": [],
   "source": [
    "import numpy as np\n",
    "import matplotlib.pyplot as plt\n",
    "\n",
    "for name, df in datasets.items():\n",
    "    print(f\"- {name} \")\n",
    "    numeric_cols = df.select_dtypes(include=[np.number]).columns.tolist()\n",
    "    # medidas estadísticas básicas\n",
    "    stats = pd.DataFrame({\n",
    "        \"media\": df[numeric_cols].mean(),\n",
    "        \"mediana\": df[numeric_cols].median(),\n",
    "        \"moda\": df[numeric_cols].mode().iloc[0],\n",
    "        \"desv\": df[numeric_cols].std()\n",
    "    })\n",
    "    print(stats)\n",
    "    \n",
    "    # histogramas de todas las numéricas\n",
    "    ncols = 5  \n",
    "    nplots = len(numeric_cols)\n",
    "    nrows = int(np.ceil(nplots / ncols))\n",
    "    fig, axes = plt.subplots(nrows, ncols, figsize=(ncols*5, nrows*3))\n",
    "    axes = np.atleast_1d(axes).ravel()\n",
    "\n",
    "    for i, col in enumerate(numeric_cols):\n",
    "        axes[i].hist(df[col].dropna(), bins=30)\n",
    "        axes[i].set_title(col)\n",
    "        axes[i].set_ylabel(\"Frecuencia\")\n",
    "\n",
    "    for j in range(nplots, len(axes)):\n",
    "        axes[j].axis(\"off\")\n",
    "\n",
    "    fig.suptitle(f\"Histogramas – {name}\", y=1.02)\n",
    "    plt.tight_layout()\n",
    "    plt.show()\n"
   ]
  },
  {
   "cell_type": "markdown",
   "id": "6b6c9a37",
   "metadata": {},
   "source": [
    "# 3. Análisis de Variables Categóricas:"
   ]
  },
  {
   "cell_type": "code",
   "execution_count": null,
   "id": "2943457f",
   "metadata": {},
   "outputs": [],
   "source": [
    "import numpy as np\n",
    "import matplotlib.pyplot as plt\n",
    "\n",
    "for name, df in datasets.items():\n",
    "    print(f\"- {name} \")\n",
    "\n",
    "    cat_cols = df.select_dtypes(include=[\"object\"]).columns.tolist()\n",
    "    print(f\"variables categóricas: {cat_cols}\")\n",
    "\n",
    "    # tabla de frecuencias para c/categórica\n",
    "    for col in cat_cols:\n",
    "        print(f\"\\nFrecuencias para {col}:\")\n",
    "        print(df[col].value_counts(dropna=False))\n",
    "\n",
    "    ncols = 3  \n",
    "    nplots = len(cat_cols)\n",
    "    nrows = int(np.ceil(nplots / ncols))\n",
    "    \n",
    "    fig, axes = plt.subplots(nrows, ncols, figsize=(ncols*6, nrows*4))\n",
    "    axes = np.atleast_1d(axes).ravel()\n",
    "    \n",
    "    for i, col in enumerate(cat_cols):\n",
    "        value_counts = df[col].value_counts(dropna=False)\n",
    "        few_data = value_counts[value_counts < 0.005 * len(df)]\n",
    "        \n",
    "        # categorías poco representadas\n",
    "        if not few_data.empty:\n",
    "            print(f\"\\n{col}: categorías con pocos datos:\")\n",
    "            print(few_data)\n",
    "        \n",
    "        axes[i].bar(value_counts.index.astype(str), value_counts.values)\n",
    "        axes[i].set_title(col)\n",
    "        axes[i].tick_params(axis=\"x\", rotation=45)\n",
    "        axes[i].set_ylabel(\"Frecuencia\")\n",
    "    \n",
    "    for j in range(nplots, len(axes)): # para los empty axes\n",
    "        axes[j].axis(\"off\")\n",
    "    \n",
    "    fig.suptitle(f\"Distribución de variables categóricas – {name}\", y=1.02)\n",
    "    plt.tight_layout()\n",
    "    plt.show()"
   ]
  },
  {
   "cell_type": "markdown",
   "id": "cbbe8cdf",
   "metadata": {},
   "source": [
    "# 4. Relaciones entre Variables:"
   ]
  },
  {
   "cell_type": "code",
   "execution_count": null,
   "id": "7041d328",
   "metadata": {},
   "outputs": [],
   "source": [
    "import matplotlib.pyplot as plt\n",
    "import numpy as np\n",
    "\n",
    "top_corr = 5 \n",
    "\n",
    "for name, df in datasets.items():\n",
    "    print(f\"- {name}\")\n",
    "    num_df = df.select_dtypes(include=[np.number])\n",
    "    mat_corr = num_df.corr()\n",
    "    print(mat_corr)\n",
    "    mask = np.triu(np.ones_like(mat_corr, dtype=bool), k=1)\n",
    "    corr_pairs = (\n",
    "        mat_corr.where(mask)\n",
    "                .stack()\n",
    "                .reset_index()\n",
    "                .rename(columns={\"level_0\": \"var1\", \"level_1\": \"var2\", 0: \"correlacion\"})\n",
    "                .sort_values(by=\"correlacion\", ascending=False)\n",
    "    )\n",
    "\n",
    "    print(\"\\nMayor correlación (pos):\")\n",
    "    print(corr_pairs.head(top_corr).to_string(index=False))\n",
    "\n",
    "    n = min(top_corr, len(corr_pairs))\n",
    "    ncols = 3\n",
    "    nrows = int(np.ceil(n / ncols))\n",
    "    fig, axes = plt.subplots(nrows, ncols, figsize=(ncols*6, nrows*4))\n",
    "    axes = np.atleast_1d(axes).ravel()\n",
    "\n",
    "    for ax, (_, row) in zip(axes, corr_pairs.head(n).iterrows()):\n",
    "        var1, var2, corr_val = row[\"var1\"], row[\"var2\"], row[\"correlacion\"]\n",
    "        ax.scatter(df[var1], df[var2], alpha=0.25, s=5) \n",
    "        ax.set_xlabel(var1)\n",
    "        ax.set_ylabel(var2)\n",
    "        ax.set_title(f\"{var1} vs {var2} (corr={corr_val:.2f})\")\n",
    "\n",
    "    for j in range(n, len(axes)):\n",
    "        axes[j].axis(\"off\")\n",
    "\n",
    "    fig.suptitle(f\"Scatter plots – Top correlaciones de {name}\", y=1.02)\n",
    "    plt.tight_layout()\n",
    "    plt.show()\n"
   ]
  },
  {
   "cell_type": "markdown",
   "id": "06fb243b",
   "metadata": {},
   "source": [
    "# 5. Detección de Fraudes"
   ]
  },
  {
   "cell_type": "code",
   "execution_count": null,
   "id": "cf2b0ee7",
   "metadata": {},
   "outputs": [],
   "source": [
    "import pandas as pd\n",
    "\n",
    "fraud_stats = []\n",
    "\n",
    "for name, df in datasets.items():\n",
    "    counts = df['fraud_bool'].value_counts()\n",
    "    total = len(df)\n",
    "    perc = (counts / total) * 100\n",
    "    fraud_stats.append({\n",
    "        \"file\": name,\n",
    "        \"no fraude\": counts.get(0, 0),\n",
    "        \"fraude\": counts.get(1, 0),\n",
    "        \"% nf\": perc.get(0, 0),\n",
    "        \"% f\": perc.get(1, 0)\n",
    "    })\n",
    "\n",
    "fraud_df = pd.DataFrame(fraud_stats)\n",
    "print(fraud_df)"
   ]
  },
  {
   "cell_type": "code",
   "execution_count": null,
   "id": "be816ed3",
   "metadata": {},
   "outputs": [],
   "source": [
    "for name, df in datasets.items():\n",
    "    print(f\"- {name} \")\n",
    "    \n",
    "    num_cols = df.select_dtypes(include=[np.number]).columns.drop('fraud_bool', errors='ignore')\n",
    "    print(\"\\nMedias de variables numéricas por grupo (fraude=1, no fraude=0):\")\n",
    "    print(df.groupby('fraud_bool')[num_cols].mean())\n",
    "    \n",
    "    cat_cols = df.select_dtypes(include=['object']).columns\n",
    "    for col in cat_cols:\n",
    "        print(f\"\\nFraude por categoría en {col}:\")\n",
    "        print(df.groupby(col)['fraud_bool'].mean().sort_values(ascending=False))\n",
    "\n"
   ]
  },
  {
   "cell_type": "code",
   "execution_count": null,
   "id": "54890390",
   "metadata": {},
   "outputs": [],
   "source": [
    "import numpy as np\n",
    "import matplotlib.pyplot as plt\n",
    "\n",
    "TOP_NUM = 5          # cuántas numéricas mostrar por dataset\n",
    "MIN_COUNT_CAT = 100  # soporte mínimo por categoría para graficarla\n",
    "\n",
    "for name, df in datasets.items():\n",
    "    print(f\"\\n=== {name} ===\")\n",
    "\n",
    "    # -------------------------------\n",
    "    # 1) NUMÉRICAS: diferencia de medias\n",
    "    # -------------------------------\n",
    "    if 'fraud_bool' not in df.columns:\n",
    "        print(\"No está 'fraud_bool'.\")\n",
    "        continue\n",
    "\n",
    "    num_cols = df.select_dtypes(include=[np.number]).columns.tolist()\n",
    "    if 'fraud_bool' in num_cols:\n",
    "        num_cols.remove('fraud_bool')\n",
    "\n",
    "    # medias por grupo\n",
    "    means_by_group = df.groupby('fraud_bool')[num_cols].mean()\n",
    "\n",
    "    # diferencia de medias: fraude(1) - no fraude(0)\n",
    "    mean_diff = (means_by_group.loc[1] - means_by_group.loc[0]).sort_values(key=lambda s: s.abs(), ascending=False)\n",
    "\n",
    "    # plot top N difs\n",
    "    top = mean_diff.head(TOP_NUM)\n",
    "    plt.figure(figsize=(8, 4 + 0.4*len(top)))\n",
    "    plt.barh(top.index[::-1], top.values[::-1])\n",
    "    plt.axvline(0, linestyle='--')\n",
    "    plt.title(f\"Diferencia de medias (fraude - no fraude) • {name}\")\n",
    "    plt.xlabel(\"Diferencia de medias\")\n",
    "    plt.ylabel(\"Variable numérica\")\n",
    "    plt.tight_layout()\n",
    "    plt.show()\n",
    "\n",
    "    # -------------------------------\n",
    "    # 2) CATEGÓRICAS: tasa de fraude por categoría\n",
    "    #    (ejemplo con payment_type y device_os si existen)\n",
    "    # -------------------------------\n",
    "    for cat_col in ['payment_type', 'device_os']:\n",
    "        if cat_col not in df.columns:\n",
    "            continue\n",
    "\n",
    "        vc = df[cat_col].value_counts()\n",
    "        keep_levels = vc[vc >= MIN_COUNT_CAT].index  # evita categorías rarísimas\n",
    "        sub = df[df[cat_col].isin(keep_levels)]\n",
    "\n",
    "        if sub.empty:\n",
    "            continue\n",
    "\n",
    "        rates = sub.groupby(cat_col)['fraud_bool'].mean().sort_values(ascending=False)\n",
    "\n",
    "        plt.figure(figsize=(8, 4 + 0.35*len(rates)))\n",
    "        plt.barh(rates.index[::-1], rates.values[::-1])\n",
    "        plt.title(f\"Tasa de fraude por categoría – {cat_col} • {name}\")\n",
    "        plt.xlabel(\"Tasa de fraude\")\n",
    "        plt.ylabel(cat_col)\n",
    "        plt.tight_layout()\n",
    "        plt.show()"
   ]
  }
 ],
 "metadata": {
  "kernelspec": {
   "display_name": "base",
   "language": "python",
   "name": "python3"
  },
  "language_info": {
   "codemirror_mode": {
    "name": "ipython",
    "version": 3
   },
   "file_extension": ".py",
   "mimetype": "text/x-python",
   "name": "python",
   "nbconvert_exporter": "python",
   "pygments_lexer": "ipython3",
   "version": "3.10.9"
  }
 },
 "nbformat": 4,
 "nbformat_minor": 5
}
